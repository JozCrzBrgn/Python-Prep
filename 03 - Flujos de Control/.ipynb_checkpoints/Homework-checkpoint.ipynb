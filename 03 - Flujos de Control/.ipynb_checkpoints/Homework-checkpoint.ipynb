{
 "cells": [
  {
   "cell_type": "markdown",
   "metadata": {},
   "source": [
    "### 1. Crear una variable que contenga un elemento del conjunto de números enteros y luego imprimir por pantalla si es mayor o menor a cero"
   ]
  },
  {
   "cell_type": "code",
   "execution_count": 11,
   "metadata": {},
   "outputs": [
    {
     "name": "stdout",
     "output_type": "stream",
     "text": [
      "Es mayor a cero\n",
      "\n",
      " Listo ...\n"
     ]
    }
   ],
   "source": [
    "var1 = 8\n",
    "if var1 > 0:\n",
    "    print('Es mayor a cero')\n",
    "elif var1 == 0:\n",
    "    print('Es igual a cero')\n",
    "elif var1 < 0:\n",
    "    print('Es menor a cero')\n",
    "    \n",
    "print(\"\\n Listo ...\")"
   ]
  },
  {
   "cell_type": "markdown",
   "metadata": {},
   "source": [
    "### 2. Crear dos variables y un condicional que informe si son del mismo tipo de dato"
   ]
  },
  {
   "cell_type": "code",
   "execution_count": 12,
   "metadata": {},
   "outputs": [
    {
     "name": "stdout",
     "output_type": "stream",
     "text": [
      "NO son del mismo tipo de dato\n",
      "\n",
      " Listo ...\n"
     ]
    }
   ],
   "source": [
    "var2 = 2\n",
    "var3 = 2.2\n",
    "if type(var2) == type(var3):\n",
    "    print('Son del mismo tipo de dato')\n",
    "else:\n",
    "    print('NO son del mismo tipo de dato')\n",
    "    \n",
    "print(\"\\n Listo ...\")"
   ]
  },
  {
   "cell_type": "markdown",
   "metadata": {},
   "source": [
    "### 3. Para los valores enteros del 1 al 20, imprimir por pantalla si es par o impar"
   ]
  },
  {
   "cell_type": "code",
   "execution_count": 13,
   "metadata": {},
   "outputs": [
    {
     "name": "stdout",
     "output_type": "stream",
     "text": [
      "1 es impar\n",
      "2 es par\n",
      "3 es impar\n",
      "4 es par\n",
      "5 es impar\n",
      "6 es par\n",
      "7 es impar\n",
      "8 es par\n",
      "9 es impar\n",
      "10 es par\n",
      "11 es impar\n",
      "12 es par\n",
      "13 es impar\n",
      "14 es par\n",
      "15 es impar\n",
      "16 es par\n",
      "17 es impar\n",
      "18 es par\n",
      "19 es impar\n",
      "20 es par\n",
      "\n",
      " Listo ...\n"
     ]
    }
   ],
   "source": [
    "for i in range(1, 21):\n",
    "    if i%2 == 0:\n",
    "        print(str(i) + ' es par')\n",
    "    else:\n",
    "        print(str(i) + ' es impar')\n",
    "        \n",
    "print(\"\\n Listo ...\")"
   ]
  },
  {
   "cell_type": "markdown",
   "metadata": {},
   "source": [
    "### 4. En un ciclo for mostrar para los valores entre 0 y 5 el resultado de elevarlo a la potencia igual a 3"
   ]
  },
  {
   "cell_type": "code",
   "execution_count": 14,
   "metadata": {},
   "outputs": [
    {
     "name": "stdout",
     "output_type": "stream",
     "text": [
      "0\n",
      "1\n",
      "8\n",
      "27\n",
      "64\n",
      "125\n",
      "\n",
      " Listo ...\n"
     ]
    }
   ],
   "source": [
    "for i in range(0, 6):\n",
    "    print(i**3)\n",
    "    \n",
    "print(\"\\n Listo ...\")"
   ]
  },
  {
   "cell_type": "markdown",
   "metadata": {},
   "source": [
    "### 5. Crear una variable que contenga un número entero y realizar un ciclo for la misma cantidad de ciclos"
   ]
  },
  {
   "cell_type": "code",
   "execution_count": 15,
   "metadata": {},
   "outputs": [
    {
     "name": "stdout",
     "output_type": "stream",
     "text": [
      "1\n",
      "2\n",
      "3\n",
      "4\n",
      "5\n",
      "\n",
      " Listo ...\n"
     ]
    }
   ],
   "source": [
    "n = 5\n",
    "for i in range(n):\n",
    "    print(i+1)\n",
    "    \n",
    "print(\"\\n Listo ...\")"
   ]
  },
  {
   "cell_type": "markdown",
   "metadata": {},
   "source": [
    "### 6. Utilizar un ciclo while para realizar el factoreo de un número guardado en una variable, sólo si la variable contiene un número entero mayor a 0"
   ]
  },
  {
   "cell_type": "code",
   "execution_count": 16,
   "metadata": {},
   "outputs": [
    {
     "name": "stdout",
     "output_type": "stream",
     "text": [
      "3628800\n",
      "\n",
      " Listo ...\n"
     ]
    }
   ],
   "source": [
    "var4 = 10\n",
    "op = False\n",
    "n = 1\n",
    "while op == False and var4 > 0:\n",
    "    n *= var4\n",
    "    var4 -= 1\n",
    "    \n",
    "print(n)\n",
    "print(\"\\n Listo ...\")"
   ]
  },
  {
   "cell_type": "markdown",
   "metadata": {},
   "source": [
    "### 7. Crear un ciclo for dentro de un ciclo while"
   ]
  },
  {
   "cell_type": "code",
   "execution_count": 17,
   "metadata": {},
   "outputs": [
    {
     "name": "stdout",
     "output_type": "stream",
     "text": [
      "0\n",
      "5\n",
      "10\n",
      "15\n",
      "20\n",
      "25\n",
      "\n",
      " Listo ...\n"
     ]
    }
   ],
   "source": [
    "x = 0\n",
    "while x <= 25:\n",
    "    print(x)\n",
    "    for i in range(5):\n",
    "        x+=1\n",
    "\n",
    "print(\"\\n Listo ...\")"
   ]
  },
  {
   "cell_type": "markdown",
   "metadata": {},
   "source": [
    "### 8. Crear un ciclo while dentro de un ciclo for"
   ]
  },
  {
   "cell_type": "code",
   "execution_count": 18,
   "metadata": {},
   "outputs": [
    {
     "name": "stdout",
     "output_type": "stream",
     "text": [
      "0\n",
      "1\n",
      "2\n",
      "3\n",
      "4\n",
      "\n",
      " Listo ...\n"
     ]
    }
   ],
   "source": [
    "for i in range(5):\n",
    "    print(i)\n",
    "    x = 0\n",
    "    while x < 25:\n",
    "        x+=1\n",
    "            \n",
    "print(\"\\n Listo ...\")"
   ]
  },
  {
   "cell_type": "markdown",
   "metadata": {},
   "source": [
    "### 9. Imprimir los números primos existentes entre 0 y 30"
   ]
  },
  {
   "cell_type": "code",
   "execution_count": 19,
   "metadata": {},
   "outputs": [
    {
     "name": "stdout",
     "output_type": "stream",
     "text": [
      "Número de iteraciones: 10\n",
      "[2, 3, 5, 7, 11, 13, 17, 19, 23, 29]\n",
      "\n",
      " Listo ...\n"
     ]
    }
   ],
   "source": [
    "# Creamos la lista completa\n",
    "primos = []\n",
    "n_max = 30\n",
    "lista = [i for i in range(2, n_max + 1)]\n",
    "pn = 0\n",
    "\n",
    "cont = 1\n",
    "while pn < n_max:\n",
    "    # obtenemos el primer valor de la lista (siempre primo)\n",
    "    pn = lista[0]\n",
    "    # lo agregamos a la lista de primos\n",
    "    primos.append(pn)\n",
    "    # Cribamos para el primer valor de la lista anterior\n",
    "    criba = []\n",
    "    for lis in lista:\n",
    "        if lis%pn != 0:\n",
    "            criba.append(lis)\n",
    "    lista = criba\n",
    "    # si llegamos al punto de lista vacia se termina el proceso\n",
    "    if lista == []:\n",
    "        break\n",
    "    cont += 1\n",
    "print('Número de iteraciones: ' + str(cont))\n",
    "print(primos)\n",
    "print(\"\\n Listo ...\")"
   ]
  },
  {
   "cell_type": "markdown",
   "metadata": {},
   "source": [
    "### 10. ¿Se puede mejorar el proceso del punto 9? Utilizar las sentencias break y/ó continue para tal fin"
   ]
  },
  {
   "cell_type": "code",
   "execution_count": 20,
   "metadata": {},
   "outputs": [
    {
     "name": "stdout",
     "output_type": "stream",
     "text": [
      "Sí, se usó para detener el proceso\n",
      "\n",
      " Listo ...\n"
     ]
    }
   ],
   "source": [
    "print('Sí, se usó para detener el proceso')\n",
    "print(\"\\n Listo ...\")"
   ]
  },
  {
   "cell_type": "markdown",
   "metadata": {},
   "source": [
    "### 11. En los puntos 9 y 10, se diseño un código que encuentra números primos y además se lo optimizó. ¿Es posible saber en qué medida se optimizó?"
   ]
  },
  {
   "cell_type": "code",
   "execution_count": 21,
   "metadata": {},
   "outputs": [
    {
     "name": "stdout",
     "output_type": "stream",
     "text": [
      "Sí, se necesitaron solo 10 ietarciones para cribar los numeros primos del rango solicitado\n",
      "\n",
      " Listo ...\n"
     ]
    }
   ],
   "source": [
    "print('Sí, se necesitaron solo 10 ietarciones para cribar los numeros primos del rango solicitado')\n",
    "print(\"\\n Listo ...\")"
   ]
  },
  {
   "cell_type": "markdown",
   "metadata": {},
   "source": [
    "### 12. Si la cantidad de números que se evalúa es mayor a treinta, esa optimización crece?"
   ]
  },
  {
   "cell_type": "code",
   "execution_count": 22,
   "metadata": {},
   "outputs": [
    {
     "name": "stdout",
     "output_type": "stream",
     "text": [
      "Número de iteraciones: 62\n",
      "[2, 3, 5, 7, 11, 13, 17, 19, 23, 29, 31, 37, 41, 43, 47, 53, 59, 61, 67, 71, 73, 79, 83, 89, 97, 101, 103, 107, 109, 113, 127, 131, 137, 139, 149, 151, 157, 163, 167, 173, 179, 181, 191, 193, 197, 199, 211, 223, 227, 229, 233, 239, 241, 251, 257, 263, 269, 271, 277, 281, 283, 293]\n",
      "\n",
      " Sí, la optimizacion crece\n",
      "\n",
      " Listo ...\n"
     ]
    }
   ],
   "source": [
    "# Creamos la lista completa\n",
    "primos = []\n",
    "n_max = 300\n",
    "lista = [i for i in range(2, n_max + 1)]\n",
    "pn = 0\n",
    "\n",
    "cont = 1\n",
    "while pn < n_max:\n",
    "    # obtenemos el primer valor de la lista (siempre primo)\n",
    "    pn = lista[0]\n",
    "    # lo agregamos a la lista de primos\n",
    "    primos.append(pn)\n",
    "    # Cribamos para el primer valor de la lista anterior\n",
    "    criba = []\n",
    "    for lis in lista:\n",
    "        if lis%pn != 0:\n",
    "            criba.append(lis)\n",
    "    lista = criba\n",
    "    # si llegamos al punto de lista vacia se termina el proceso\n",
    "    if lista == []:\n",
    "        break\n",
    "    cont += 1\n",
    "print('Número de iteraciones: ' + str(cont))\n",
    "print(primos)\n",
    "print('\\n Sí, la optimizacion crece')\n",
    "print(\"\\n Listo ...\")"
   ]
  },
  {
   "cell_type": "markdown",
   "metadata": {},
   "source": [
    "### 13. Aplicando continue, armar un ciclo while que solo imprima los valores divisibles por 12, dentro del rango de números de 100 a 300"
   ]
  },
  {
   "cell_type": "code",
   "execution_count": 23,
   "metadata": {},
   "outputs": [
    {
     "name": "stdout",
     "output_type": "stream",
     "text": [
      "El número 108 es divisible por 12\n",
      "El número 120 es divisible por 12\n",
      "El número 132 es divisible por 12\n",
      "El número 144 es divisible por 12\n",
      "El número 156 es divisible por 12\n",
      "El número 168 es divisible por 12\n",
      "El número 180 es divisible por 12\n",
      "El número 192 es divisible por 12\n",
      "El número 204 es divisible por 12\n",
      "El número 216 es divisible por 12\n",
      "El número 228 es divisible por 12\n",
      "El número 240 es divisible por 12\n",
      "El número 252 es divisible por 12\n",
      "El número 264 es divisible por 12\n",
      "El número 276 es divisible por 12\n",
      "El número 288 es divisible por 12\n",
      "El número 300 es divisible por 12\n",
      "\n",
      " Listo ...\n"
     ]
    }
   ],
   "source": [
    "n = 100\n",
    "while n <= 300:\n",
    "    if n%12==0:\n",
    "        print('El número ' + str(n) + ' es divisible por 12')\n",
    "    n+=1\n",
    "    \n",
    "print(\"\\n Listo ...\")"
   ]
  },
  {
   "cell_type": "markdown",
   "metadata": {},
   "source": [
    "### 14. Utilizar la función input() que permite hacer ingresos por teclado, para encontrar números primos y dar la opción al usario de buscar el siguiente"
   ]
  },
  {
   "cell_type": "code",
   "execution_count": 26,
   "metadata": {},
   "outputs": [
    {
     "name": "stdout",
     "output_type": "stream",
     "text": [
      "1\n",
      "¿Desea encontrar el siguiente número primo?\n",
      "y\n",
      "2\n",
      "¿Desea encontrar el siguiente número primo?\n",
      "n\n",
      "Se finaliza el proceso\n",
      "\n",
      " Listo ...\n"
     ]
    }
   ],
   "source": [
    "cont = 1\n",
    "primo = True\n",
    "sigue = 'y'\n",
    "while (sigue == 'y'):\n",
    "    for div in range(2, cont):\n",
    "        if (cont % div == 0):\n",
    "            primo = False\n",
    "            break\n",
    "    if (primo):\n",
    "        print(cont)\n",
    "        print('¿Desea encontrar el siguiente número primo?')\n",
    "        if (input() != 'y'):\n",
    "            print('Se finaliza el proceso')\n",
    "            break\n",
    "    else:\n",
    "        primo = True\n",
    "    cont += 1\n",
    "    \n",
    "print(\"\\n Listo ...\")"
   ]
  },
  {
   "cell_type": "markdown",
   "metadata": {},
   "source": [
    "### 15. Crear un ciclo while que encuentre dentro del rango de 100 a 300 el primer número divisible por 3 y además múltiplo de 6"
   ]
  },
  {
   "cell_type": "code",
   "execution_count": 25,
   "metadata": {},
   "outputs": [
    {
     "name": "stdout",
     "output_type": "stream",
     "text": [
      "102\n",
      "\n",
      " Listo ...\n"
     ]
    }
   ],
   "source": [
    "bo = False\n",
    "x = 100\n",
    "while bo == False:\n",
    "    if x%3 == 0 and x%6 == 0:\n",
    "        bo = True\n",
    "        print(x)\n",
    "    x+=1\n",
    "\n",
    "print(\"\\n Listo ...\")"
   ]
  },
  {
   "cell_type": "code",
   "execution_count": null,
   "metadata": {},
   "outputs": [],
   "source": []
  }
 ],
 "metadata": {
  "kernelspec": {
   "display_name": "Python 3",
   "language": "python",
   "name": "python3"
  },
  "language_info": {
   "codemirror_mode": {
    "name": "ipython",
    "version": 3
   },
   "file_extension": ".py",
   "mimetype": "text/x-python",
   "name": "python",
   "nbconvert_exporter": "python",
   "pygments_lexer": "ipython3",
   "version": "3.7.6"
  }
 },
 "nbformat": 4,
 "nbformat_minor": 4
}
