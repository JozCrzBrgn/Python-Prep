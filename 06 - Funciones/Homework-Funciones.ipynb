{
 "cells": [
  {
   "cell_type": "markdown",
   "metadata": {},
   "source": [
    "# Funciones."
   ]
  },
  {
   "cell_type": "markdown",
   "metadata": {},
   "source": [
    "### 1. Crear una función que reciba un número como parámetro y devuelva True si es primo y False si no lo es"
   ]
  },
  {
   "cell_type": "code",
   "execution_count": 24,
   "metadata": {},
   "outputs": [
    {
     "name": "stdout",
     "output_type": "stream",
     "text": [
      "False\n",
      "True\n"
     ]
    }
   ],
   "source": [
    "def primoNoprimo(n_max):\n",
    "    if n_max > 1:\n",
    "        # Creamos la lista completa\n",
    "        lista = [i for i in range(2, n_max + 1)]\n",
    "        pn = 0\n",
    "        while pn < n_max:\n",
    "            # obtenemos el primer valor de la lista (siempre primo)\n",
    "            pn = lista[0]\n",
    "            # Evaluamos si el valor dado es primo\n",
    "            if pn == n_max:\n",
    "                return True\n",
    "            # Cribamos para el primer valor de la lista anterior\n",
    "            criba = []\n",
    "            for lis in lista:\n",
    "                if lis%pn != 0:\n",
    "                    criba.append(lis)\n",
    "            lista = criba\n",
    "            # si llegamos al punto de lista vacia se termina el proceso\n",
    "            if lista == []:\n",
    "                return False\n",
    "                break\n",
    "            \n",
    "#\n",
    "print(primoNoprimo(30))\n",
    "#\n",
    "print(primoNoprimo(31))"
   ]
  },
  {
   "cell_type": "markdown",
   "metadata": {},
   "source": [
    "### 2. Utilizando la función del punto 1, realizar otra función que reciba de parámetro una lista de números y devuelva sólo aquellos que son primos en otra lista"
   ]
  },
  {
   "cell_type": "code",
   "execution_count": 25,
   "metadata": {},
   "outputs": [
    {
     "name": "stdout",
     "output_type": "stream",
     "text": [
      "[2, 3, 2, 5, 2, 7, 3]\n"
     ]
    }
   ],
   "source": [
    "lista = [1,2,8,3,4,8,2,4,5,8,6,6,2,7,8,6,6,6,3,6,6,6]\n",
    "\n",
    "def Filtro_primos(lista):\n",
    "    lista2 = []\n",
    "    for x in lista:\n",
    "        if primoNoprimo(x)==True:\n",
    "            lista2.append(x)\n",
    "    return lista2\n",
    "        \n",
    "print(Filtro_primos(lista))"
   ]
  },
  {
   "cell_type": "markdown",
   "metadata": {},
   "source": [
    "### 3. Crear una función que al recibir una lista de números, devuelva el que más se repite y cuántas veces lo hace. Si hay más de un \"más repetido\", que devuelva cualquiera"
   ]
  },
  {
   "cell_type": "code",
   "execution_count": 66,
   "metadata": {},
   "outputs": [
    {
     "name": "stdout",
     "output_type": "stream",
     "text": [
      "El numero que más se repite es 6 y se repite 9 veces\n"
     ]
    },
    {
     "data": {
      "text/plain": [
       "(6, 9)"
      ]
     },
     "execution_count": 66,
     "metadata": {},
     "output_type": "execute_result"
    }
   ],
   "source": [
    "def listRepet(lista):\n",
    "    repetidos = []\n",
    "    for lis in lista:\n",
    "        repetidos.append(lista.count(lis))\n",
    "\n",
    "    idx_max = repetidos.index(max(repetidos))\n",
    "    idx_max\n",
    "    print(f'El numero que más se repite es {lista[idx_max]} y se repite {repetidos[idx_max]} veces')\n",
    "    return (lista[idx_max], repetidos[idx_max])\n",
    "    \n",
    "lista = [1,2,8,3,4,8,2,4,5,8,6,6,2,7,8,6,6,6,6,6,6,6]\n",
    "listRepet(lista)"
   ]
  },
  {
   "cell_type": "markdown",
   "metadata": {},
   "source": [
    "### 4. A la función del punto 3, agregar un parámetro más, que permita elegir si se requiere el menor o el mayor de los mas repetidos."
   ]
  },
  {
   "cell_type": "code",
   "execution_count": 65,
   "metadata": {},
   "outputs": [
    {
     "name": "stdout",
     "output_type": "stream",
     "text": [
      "El numero que más se repite es 6 y se repite 9 veces\n",
      "(6, 9)\n"
     ]
    }
   ],
   "source": [
    "lista = [8,2,8,4,8,2,4,5,8,6,6,2,7,8,6,3,6,6,6,6,6,6]\n",
    "op = 1\n",
    "\n",
    "def listRepet(lista, op):\n",
    "    repetidos = []\n",
    "    for lis in lista:\n",
    "        repetidos.append(lista.count(lis))\n",
    "\n",
    "    if op == 0:\n",
    "        idx_min = repetidos.index(min(repetidos))\n",
    "        idx_min\n",
    "        print(f'El numero que menos se repite es {lista[idx_min]} y se repite {repetidos[idx_min]} veces')\n",
    "        return (lista[idx_min], repetidos[idx_min])\n",
    "    elif op == 1:\n",
    "        idx_max = repetidos.index(max(repetidos))\n",
    "        idx_max\n",
    "        print(f'El numero que más se repite es {lista[idx_max]} y se repite {repetidos[idx_max]} veces')\n",
    "        return (lista[idx_max], repetidos[idx_max])\n",
    "        \n",
    "print(listRepet(lista, op))"
   ]
  },
  {
   "cell_type": "markdown",
   "metadata": {},
   "source": [
    "### 5. Crear una función que convierta entre grados Celsius, Farenheit y Kelvin\n",
    "### Fórmula 1 : (°C × 9/5) + 32 = °F\n",
    "### Fórmula 2 : °C + 273.15 = °K\n",
    "### Debe recibir 3 parámetros: el valor, la medida de orígen y la medida de destino"
   ]
  },
  {
   "cell_type": "code",
   "execution_count": 67,
   "metadata": {},
   "outputs": [],
   "source": [
    "def Temperatura(val, medida_origen, medida_destino):\n",
    "    # Para grados Celsius\n",
    "    if medida_origen == 'C':\n",
    "        if medida_destino == 'C':\n",
    "            ans = val\n",
    "            print(f'{val}°C son {round(val,2)}°C')\n",
    "        if medida_destino == 'F':\n",
    "            ans = (9*val/5) + 32\n",
    "            print(f'{val}°C son {round(ans,2)}°F')\n",
    "        if medida_destino == 'K':\n",
    "            ans = 273.15 + val\n",
    "            print(f'{val}°C son {round(ans,2)}°K')\n",
    "            \n",
    "    # Para grados Farenheit\n",
    "    if medida_origen == 'F':\n",
    "        if medida_destino == 'F':\n",
    "            ans = val\n",
    "            print(f'{val}°F son {round(val,2)}°F')\n",
    "        if medida_destino == 'C':\n",
    "            ans = (5/9)*(val - 32)\n",
    "            print(f'{val}°F son {round(ans,2)}°C')\n",
    "        if medida_destino == 'K':\n",
    "            ans0 = (5/9)*(val - 32)\n",
    "            ans = 273.15 + ans0\n",
    "            print(f'{val}°F son {round(ans,2)}°K')\n",
    "            \n",
    "    # Para grados Kelvin\n",
    "    if medida_origen == 'K':\n",
    "        if medida_destino == 'K':\n",
    "            ans = val\n",
    "            print(f'{val}°K son {round(val,2)}°K')\n",
    "        if medida_destino == 'C':\n",
    "            ans = val - 273.15\n",
    "            print(f'{val}°K son {round(ans,2)}°C')\n",
    "        if medida_destino == 'F':\n",
    "            ans0 = val - 273.15\n",
    "            ans = (9*ans0/5) + 32\n",
    "            print(f'{val}°K son {round(ans,2)}°F')"
   ]
  },
  {
   "cell_type": "markdown",
   "metadata": {},
   "source": [
    "### 6. Iterando una lista con los tres valores posibles de temperatura que recibe la función del punto 5, hacer un print para cada combinación de los mismos:"
   ]
  },
  {
   "cell_type": "code",
   "execution_count": 68,
   "metadata": {},
   "outputs": [
    {
     "name": "stdout",
     "output_type": "stream",
     "text": [
      "23°C son 73.4°F\n",
      "50°C son 323.15°K\n",
      "75°F son 23.89°C\n",
      "32°F son 273.15°K\n",
      "100°K son -173.15°C\n",
      "123°K son -238.27°F\n",
      "2°C son 2°C\n",
      "3°F son 3°F\n",
      "4°K son 4°K\n"
     ]
    }
   ],
   "source": [
    "temp = [[23, 'C', 'F'],[50,'C','K'],[75,'F','C'],[32,'F','K'],[100,'K','C'],[123,'K','F'],[2,'C','C'],[3,'F','F'],[4,'K','K']]\n",
    "for t in temp:\n",
    "    Temperatura(t[0], t[1], t[2])\n",
    "    "
   ]
  },
  {
   "cell_type": "markdown",
   "metadata": {},
   "source": [
    "### 7. Armar una función que devuelva el factorial de un número. Tener en cuenta que el usuario puede equivocarse y enviar de parámetro un número no entero o negativo"
   ]
  },
  {
   "cell_type": "code",
   "execution_count": 28,
   "metadata": {},
   "outputs": [
    {
     "name": "stdout",
     "output_type": "stream",
     "text": [
      "3628800\n"
     ]
    }
   ],
   "source": [
    "\n",
    "def Factorial(n):\n",
    "    if type(n) == float:\n",
    "        print('Error, el numero ingresado no es entero')\n",
    "        return None\n",
    "    elif n < 0:\n",
    "        print('Error, el numero ingresado es negativo')\n",
    "        return None\n",
    "    else:\n",
    "        x = 1\n",
    "        for i in range(1,n+1):\n",
    "            x *= i \n",
    "        return x\n",
    "\n",
    "print(Factorial(10))"
   ]
  },
  {
   "cell_type": "code",
   "execution_count": null,
   "metadata": {},
   "outputs": [],
   "source": []
  }
 ],
 "metadata": {
  "kernelspec": {
   "display_name": "Python 3",
   "language": "python",
   "name": "python3"
  },
  "language_info": {
   "codemirror_mode": {
    "name": "ipython",
    "version": 3
   },
   "file_extension": ".py",
   "mimetype": "text/x-python",
   "name": "python",
   "nbconvert_exporter": "python",
   "pygments_lexer": "ipython3",
   "version": "3.7.6"
  }
 },
 "nbformat": 4,
 "nbformat_minor": 4
}
